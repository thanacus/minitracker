{
 "cells": [
  {
   "cell_type": "code",
   "execution_count": 1,
   "metadata": {},
   "outputs": [
    {
     "name": "stdout",
     "output_type": "stream",
     "text": [
      "Collecting simple_image_download==0.4\n",
      "  Downloading simple_image_download-0.4-py3-none-any.whl (4.9 kB)\n",
      "Collecting requests (from simple_image_download==0.4)\n",
      "  Obtaining dependency information for requests from https://files.pythonhosted.org/packages/70/8e/0e2d847013cb52cd35b38c009bb167a1a26b2ce6cd6965bf26b47bc0bf44/requests-2.31.0-py3-none-any.whl.metadata\n",
      "  Downloading requests-2.31.0-py3-none-any.whl.metadata (4.6 kB)\n",
      "Collecting python-magic-bin==0.4.14 (from simple_image_download==0.4)\n",
      "  Downloading python_magic_bin-0.4.14-py2.py3-none-win_amd64.whl (409 kB)\n",
      "     ---------------------------------------- 0.0/409.3 kB ? eta -:--:--\n",
      "     ---------------------------------------- 0.0/409.3 kB ? eta -:--:--\n",
      "     - -------------------------------------- 10.2/409.3 kB ? eta -:--:--\n",
      "     ----- ------------------------------- 61.4/409.3 kB 812.7 kB/s eta 0:00:01\n",
      "     ------------------------- ------------ 276.5/409.3 kB 2.4 MB/s eta 0:00:01\n",
      "     -------------------------------------- 409.3/409.3 kB 3.2 MB/s eta 0:00:00\n",
      "Collecting progressbar (from simple_image_download==0.4)\n",
      "  Downloading progressbar-2.5.tar.gz (10 kB)\n",
      "  Installing build dependencies: started\n",
      "  Installing build dependencies: finished with status 'done'\n",
      "  Getting requirements to build wheel: started\n",
      "  Getting requirements to build wheel: finished with status 'done'\n",
      "  Preparing metadata (pyproject.toml): started\n",
      "  Preparing metadata (pyproject.toml): finished with status 'done'\n",
      "Collecting charset-normalizer<4,>=2 (from requests->simple_image_download==0.4)\n",
      "  Obtaining dependency information for charset-normalizer<4,>=2 from https://files.pythonhosted.org/packages/91/6e/db0e545302bf93b6dbbdc496dd192c7f8e8c3bb1584acba069256d8b51d4/charset_normalizer-3.2.0-cp311-cp311-win_amd64.whl.metadata\n",
      "  Downloading charset_normalizer-3.2.0-cp311-cp311-win_amd64.whl.metadata (31 kB)\n",
      "Collecting idna<4,>=2.5 (from requests->simple_image_download==0.4)\n",
      "  Downloading idna-3.4-py3-none-any.whl (61 kB)\n",
      "     ---------------------------------------- 0.0/61.5 kB ? eta -:--:--\n",
      "     ---------------------------------------- 61.5/61.5 kB 3.2 MB/s eta 0:00:00\n",
      "Collecting urllib3<3,>=1.21.1 (from requests->simple_image_download==0.4)\n",
      "  Obtaining dependency information for urllib3<3,>=1.21.1 from https://files.pythonhosted.org/packages/37/dc/399e63f5d1d96bb643404ee830657f4dfcf8503f5ba8fa3c6d465d0c57fe/urllib3-2.0.5-py3-none-any.whl.metadata\n",
      "  Downloading urllib3-2.0.5-py3-none-any.whl.metadata (6.6 kB)\n",
      "Collecting certifi>=2017.4.17 (from requests->simple_image_download==0.4)\n",
      "  Obtaining dependency information for certifi>=2017.4.17 from https://files.pythonhosted.org/packages/4c/dd/2234eab22353ffc7d94e8d13177aaa050113286e93e7b40eae01fbf7c3d9/certifi-2023.7.22-py3-none-any.whl.metadata\n",
      "  Downloading certifi-2023.7.22-py3-none-any.whl.metadata (2.2 kB)\n",
      "Downloading requests-2.31.0-py3-none-any.whl (62 kB)\n",
      "   ---------------------------------------- 0.0/62.6 kB ? eta -:--:--\n",
      "   ---------------------------------------- 62.6/62.6 kB 3.3 MB/s eta 0:00:00\n",
      "Downloading certifi-2023.7.22-py3-none-any.whl (158 kB)\n",
      "   ---------------------------------------- 0.0/158.3 kB ? eta -:--:--\n",
      "   ---------------------------------------- 158.3/158.3 kB 9.9 MB/s eta 0:00:00\n",
      "Downloading charset_normalizer-3.2.0-cp311-cp311-win_amd64.whl (96 kB)\n",
      "   ---------------------------------------- 0.0/96.6 kB ? eta -:--:--\n",
      "   ---------------------------------------- 96.6/96.6 kB 5.8 MB/s eta 0:00:00\n",
      "Downloading urllib3-2.0.5-py3-none-any.whl (123 kB)\n",
      "   ---------------------------------------- 0.0/123.8 kB ? eta -:--:--\n",
      "   ---------------------------------------- 123.8/123.8 kB 3.5 MB/s eta 0:00:00\n",
      "Building wheels for collected packages: progressbar\n",
      "  Building wheel for progressbar (pyproject.toml): started\n",
      "  Building wheel for progressbar (pyproject.toml): finished with status 'done'\n",
      "  Created wheel for progressbar: filename=progressbar-2.5-py3-none-any.whl size=12083 sha256=919278e831c9561a7e6c145f9c8e97779144406cb9223fa7ab094574c88d24d8\n",
      "  Stored in directory: c:\\users\\vr\\appdata\\local\\pip\\cache\\wheels\\8d\\bb\\b2\\5353b966ac6f3c5e1000629a9a5f6aed41794487f551e32efc\n",
      "Successfully built progressbar\n",
      "Installing collected packages: python-magic-bin, progressbar, urllib3, idna, charset-normalizer, certifi, requests, simple_image_download\n",
      "Successfully installed certifi-2023.7.22 charset-normalizer-3.2.0 idna-3.4 progressbar-2.5 python-magic-bin-0.4.14 requests-2.31.0 simple_image_download-0.4 urllib3-2.0.5\n"
     ]
    }
   ],
   "source": [
    "!pip install simple_image_download==0.4"
   ]
  },
  {
   "cell_type": "code",
   "execution_count": 3,
   "metadata": {},
   "outputs": [
    {
     "name": "stderr",
     "output_type": "stream",
     "text": [
      "[========================================================================] 100%\n"
     ]
    }
   ],
   "source": [
    "from simple_image_download import simple_image_download as simp\n",
    "\n",
    "response = simp.simple_image_download\n",
    "keywords = [\"dnd minis in play\"]\n",
    "\n",
    "for kw in keywords:\n",
    "    response().download(kw, 500)"
   ]
  }
 ],
 "metadata": {
  "kernelspec": {
   "display_name": "Python 3",
   "language": "python",
   "name": "python3"
  },
  "language_info": {
   "codemirror_mode": {
    "name": "ipython",
    "version": 3
   },
   "file_extension": ".py",
   "mimetype": "text/x-python",
   "name": "python",
   "nbconvert_exporter": "python",
   "pygments_lexer": "ipython3",
   "version": "3.10.11"
  },
  "orig_nbformat": 4
 },
 "nbformat": 4,
 "nbformat_minor": 2
}
